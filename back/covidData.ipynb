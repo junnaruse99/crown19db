{
 "cells": [
  {
   "cell_type": "code",
   "execution_count": 145,
   "id": "f8bb8b98-4ba1-4005-ba9e-155648c28912",
   "metadata": {},
   "outputs": [],
   "source": [
    "import pandas as pd\n",
    "import numpy as np\n",
    "import json"
   ]
  },
  {
   "cell_type": "code",
   "execution_count": 122,
   "id": "3fe3c6a9-e827-4cef-998e-01eb00f4ea32",
   "metadata": {},
   "outputs": [],
   "source": [
    "data = pd.read_csv('./time_series_covid19_confirmed_global.csv')"
   ]
  },
  {
   "cell_type": "code",
   "execution_count": 134,
   "id": "240da70a-03c5-4c89-9a18-fbf735fff4ad",
   "metadata": {},
   "outputs": [],
   "source": [
    "def transformData(path, transformed, prefix, suffix, sep, typeofdata):\n",
    "    data = pd.read_csv(path)\n",
    "    columns = data.columns.tolist()\n",
    "    columns = columns[4:]\n",
    "    \n",
    "    # Find the total cases per day\n",
    "    sum_cases = data[columns].sum().values.tolist()\n",
    "    \n",
    "    # Find the country and state with most cases\n",
    "    days = data[columns].max().index.tolist()\n",
    "    cases = data[columns].max().values.tolist()\n",
    "    province = []\n",
    "    country = []\n",
    "    \n",
    "    for i in range(len(days)):\n",
    "        maximum = data.loc[data[days[i]] == cases[i]]\n",
    "        province.append(maximum['Province/State'].values[0])\n",
    "        country.append(maximum['Country/Region'].values[0])\n",
    "        \n",
    "    transformed['Day'] = days\n",
    "    transformed[prefix + sep + 'Country' + sep + suffix] = country\n",
    "    transformed[prefix + sep + 'Province' + sep + suffix] = province\n",
    "    transformed[typeofdata] = max_cases"
   ]
  },
  {
   "cell_type": "code",
   "execution_count": 146,
   "id": "b1df27cb-db7e-4c9d-8e7b-dce027c69868",
   "metadata": {},
   "outputs": [],
   "source": [
    "def main():\n",
    "    data = {}\n",
    "    transformData('./time_series_covid19_confirmed_global.csv', data, 'Confirmed per', '', ' ', 'Confirmed')\n",
    "    transformData('./time_series_covid19_deaths_global.csv', data, 'Deaths per', '', ' ', 'Deaths')\n",
    "    transformData('./time_series_covid19_recovered_global.csv', data, 'Recovered per', '', ' ', 'Recovered')\n",
    "    with open(\"covid.json\", \"w\") as outfile:\n",
    "        json.dump(data, outfile)"
   ]
  },
  {
   "cell_type": "code",
   "execution_count": 147,
   "id": "5d018ab7-486a-4a70-961c-48a974eaa78a",
   "metadata": {},
   "outputs": [],
   "source": [
    "main()"
   ]
  },
  {
   "cell_type": "code",
   "execution_count": null,
   "id": "aef1411d-fee0-49ea-8a8f-ad46cb5ce0a5",
   "metadata": {},
   "outputs": [],
   "source": []
  }
 ],
 "metadata": {
  "kernelspec": {
   "display_name": "Python 3 (ipykernel)",
   "language": "python",
   "name": "python3"
  },
  "language_info": {
   "codemirror_mode": {
    "name": "ipython",
    "version": 3
   },
   "file_extension": ".py",
   "mimetype": "text/x-python",
   "name": "python",
   "nbconvert_exporter": "python",
   "pygments_lexer": "ipython3",
   "version": "3.8.10"
  }
 },
 "nbformat": 4,
 "nbformat_minor": 5
}
