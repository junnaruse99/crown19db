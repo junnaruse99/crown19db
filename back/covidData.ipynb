{
 "cells": [
  {
   "cell_type": "code",
   "execution_count": 2,
   "id": "9864112d",
   "metadata": {
    "tags": []
   },
   "outputs": [],
   "source": [
    "import pandas as pd\n",
    "import numpy as np\n",
    "import json"
   ]
  },
  {
   "cell_type": "code",
   "execution_count": 21,
   "id": "c8c78060-5db0-4612-9fca-be2aa03f08db",
   "metadata": {},
   "outputs": [],
   "source": [
    "confirmed = pd.read_csv('./time_series_covid19_confirmed_global.csv')\n",
    "confirmed.fillna(value='', inplace=True)\n",
    "deaths = pd.read_csv('./time_series_covid19_deaths_global.csv')\n",
    "deaths.fillna(value='', inplace=True)\n",
    "recovered = pd.read_csv('./time_series_covid19_recovered_global.csv')\n",
    "recovered.fillna(value='', inplace=True)"
   ]
  },
  {
   "cell_type": "code",
   "execution_count": 23,
   "id": "2ac00f12-e483-4f40-858b-d7bbcad35d72",
   "metadata": {},
   "outputs": [],
   "source": [
    "# Get the sum of confirmed, deaths and recovered per day \n",
    "confirmed_sum = confirmed[confirmed.columns.tolist()[4:]].sum().values.tolist()\n",
    "deaths_sum = deaths[deaths.columns.tolist()[4:]].sum().values.tolist()\n",
    "recovered_sum = recovered[recovered.columns.tolist()[4:]].sum().values.tolist()"
   ]
  },
  {
   "cell_type": "code",
   "execution_count": 27,
   "id": "1cde81a5-9776-429b-957e-55d358ceb640",
   "metadata": {},
   "outputs": [],
   "source": [
    "confirmed_country = confirmed.groupby(by=['Country/Region']).sum()\n",
    "deaths_country = deaths.groupby(by=['Country/Region']).sum()\n",
    "recovered_country = recovered.groupby(by=['Country/Region']).sum()"
   ]
  },
  {
   "cell_type": "code",
   "execution_count": 68,
   "id": "d313686c-ac65-4522-ad7d-721b72b2a55d",
   "metadata": {},
   "outputs": [],
   "source": [
    "transformed = []\n",
    "# Get countries with most cases\n",
    "days = confirmed_country.max().index.tolist()\n",
    "\n",
    "max_cases_country = confirmed_country.max().values.tolist()\n",
    "max_deaths_country = deaths_country.max().values.tolist()\n",
    "max_recovered_country = recovered_country.max().values.tolist()\n",
    "\n",
    "max_cases_state = confirmed[days].max().values.tolist()\n",
    "max_deaths_state = deaths[days].max().values.tolist()\n",
    "max_recovered_state = recovered[days].max().values.tolist()\n",
    "\n",
    "for i in range(len(days)):\n",
    "    aux = {}\n",
    "    aux['Date'] = days[i]\n",
    "    aux['Country-cases'] = confirmed_country.loc[confirmed_country[days[i]] == max_cases_country[i]].index.tolist()\n",
    "    aux['Country-deaths'] = deaths_country.loc[deaths_country[days[i]] == max_deaths_country[i]].index.tolist()\n",
    "    aux['Country-recovered'] = recovered_country.loc[recovered_country[days[i]] == max_recovered_country[i]].index.tolist()\n",
    "    \n",
    "    aux['State-cases'] = confirmed.loc[confirmed[days[i]] == max_cases_state[i]]['Province/State'].values.tolist()\n",
    "    aux['State-deaths'] = deaths.loc[deaths[days[i]] == max_deaths_state[i]]['Province/State'].values.tolist()\n",
    "    aux['State.recovered'] = recovered.loc[recovered[days[i]] == max_recovered_state[i]]['Province/State'].values.tolist()\n",
    "    \n",
    "    aux['Cases'] = max_cases_country[i]\n",
    "    aux['Deaths'] = max_deaths_country[i]\n",
    "    aux['Recovered'] = max_recovered_country[i]\n",
    "    transformed.append(aux)\n",
    "    "
   ]
  },
  {
   "cell_type": "code",
   "execution_count": 69,
   "id": "96545ff6",
   "metadata": {},
   "outputs": [],
   "source": [
    "with open(\"covid.json\", \"w\") as outfile:\n",
    "    json.dump(transformed, outfile)"
   ]
  },
  {
   "cell_type": "code",
   "execution_count": null,
   "id": "1a04d4c4-cafe-4781-8a0e-1d97f6d2fd33",
   "metadata": {},
   "outputs": [],
   "source": []
  }
 ],
 "metadata": {
  "kernelspec": {
   "display_name": "Python 3 (ipykernel)",
   "language": "python",
   "name": "python3"
  },
  "language_info": {
   "codemirror_mode": {
    "name": "ipython",
    "version": 3
   },
   "file_extension": ".py",
   "mimetype": "text/x-python",
   "name": "python",
   "nbconvert_exporter": "python",
   "pygments_lexer": "ipython3",
   "version": "3.8.10"
  }
 },
 "nbformat": 4,
 "nbformat_minor": 5
}
